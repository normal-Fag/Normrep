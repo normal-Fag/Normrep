{
  "nbformat": 4,
  "nbformat_minor": 0,
  "metadata": {
    "colab": {
      "name": "teStIS.ipynb",
      "provenance": [],
      "collapsed_sections": [
        "Z39vsRfYQ8fz",
        "99GLvgvXR1vy",
        "dN4HnoUpbANh"
      ],
      "authorship_tag": "ABX9TyN0epXXtUUH//wEOxRiR6u4",
      "include_colab_link": true
    },
    "kernelspec": {
      "name": "python3",
      "display_name": "Python 3"
    }
  },
  "cells": [
    {
      "cell_type": "markdown",
      "metadata": {
        "id": "view-in-github",
        "colab_type": "text"
      },
      "source": [
        "<a href=\"https://colab.research.google.com/github/normal-Fag/Normrep/blob/main/teStIS.ipynb\" target=\"_parent\"><img src=\"https://colab.research.google.com/assets/colab-badge.svg\" alt=\"Open In Colab\"/></a>"
      ]
    },
    {
      "cell_type": "markdown",
      "metadata": {
        "id": "Z39vsRfYQ8fz"
      },
      "source": [
        "# import packages"
      ]
    },
    {
      "cell_type": "code",
      "metadata": {
        "id": "qpTbFOfARCOH"
      },
      "source": [
        "import pandas as pd\n",
        "import numpy as np\n",
        "from IPython.display import display"
      ],
      "execution_count": 2,
      "outputs": []
    },
    {
      "cell_type": "markdown",
      "metadata": {
        "id": "99GLvgvXR1vy"
      },
      "source": [
        "# import data"
      ]
    },
    {
      "cell_type": "code",
      "metadata": {
        "id": "prbG9ZskUZOL"
      },
      "source": [
        "data = pd.read_csv('https://archive.ics.uci.edu/ml/machine-learning-databases/glass/glass.data', header=None)\n",
        "\n",
        "names = ['ID', 'RI', 'Na', 'Mg', 'Al', 'Si', 'K', 'Ca', 'Ba', 'Fe', 'Class']\n",
        "data.columns = names\n",
        "\n",
        "data = data.drop(columns='ID')\n",
        "\n",
        "data['Class'].replace(\n",
        "                      {\n",
        "                          1:'building_windows_float_processed',\n",
        "                          2:'building_windows_non_float_processed',\n",
        "                          3:'vehicle_windows_float_processed',\n",
        "                          4:'vehicle_windows_non_float_processed',\n",
        "                          5:'containers',\n",
        "                          6:'tableware',\n",
        "                          7:'headlamps'\n",
        "                      }, inplace = True)"
      ],
      "execution_count": 21,
      "outputs": []
    },
    {
      "cell_type": "code",
      "metadata": {
        "id": "J0EIhh1NaCQM"
      },
      "source": [
        "for col in data.columns:\n",
        "  fr = np.random.randint(5, 10) / 100 \n",
        "  data.loc[data.sample(frac=fr).index, col] = np.nan"
      ],
      "execution_count": 24,
      "outputs": []
    },
    {
      "cell_type": "markdown",
      "metadata": {
        "id": "dN4HnoUpbANh"
      },
      "source": [
        "# Data Vizualization"
      ]
    },
    {
      "cell_type": "code",
      "metadata": {
        "colab": {
          "base_uri": "https://localhost:8080/"
        },
        "id": "vfJFJreRbf84",
        "outputId": "9e8a28f1-0801-47f1-9147-d564a2c8c0e3"
      },
      "source": [
        "data.info()"
      ],
      "execution_count": 34,
      "outputs": [
        {
          "output_type": "stream",
          "text": [
            "<class 'pandas.core.frame.DataFrame'>\n",
            "RangeIndex: 214 entries, 0 to 213\n",
            "Data columns (total 10 columns):\n",
            " #   Column  Non-Null Count  Dtype  \n",
            "---  ------  --------------  -----  \n",
            " 0   RI      183 non-null    float64\n",
            " 1   Na      177 non-null    float64\n",
            " 2   Mg      184 non-null    float64\n",
            " 3   Al      188 non-null    float64\n",
            " 4   Si      183 non-null    float64\n",
            " 5   K       190 non-null    float64\n",
            " 6   Ca      190 non-null    float64\n",
            " 7   Ba      182 non-null    float64\n",
            " 8   Fe      180 non-null    float64\n",
            " 9   Class   183 non-null    object \n",
            "dtypes: float64(9), object(1)\n",
            "memory usage: 16.8+ KB\n"
          ],
          "name": "stdout"
        }
      ]
    },
    {
      "cell_type": "code",
      "metadata": {
        "colab": {
          "base_uri": "https://localhost:8080/",
          "height": 297
        },
        "id": "9t_1v06qbrz1",
        "outputId": "d2080044-8f28-4369-fb30-6734d2f395d5"
      },
      "source": [
        "data.describe()"
      ],
      "execution_count": 25,
      "outputs": [
        {
          "output_type": "execute_result",
          "data": {
            "text/html": [
              "<div>\n",
              "<style scoped>\n",
              "    .dataframe tbody tr th:only-of-type {\n",
              "        vertical-align: middle;\n",
              "    }\n",
              "\n",
              "    .dataframe tbody tr th {\n",
              "        vertical-align: top;\n",
              "    }\n",
              "\n",
              "    .dataframe thead th {\n",
              "        text-align: right;\n",
              "    }\n",
              "</style>\n",
              "<table border=\"1\" class=\"dataframe\">\n",
              "  <thead>\n",
              "    <tr style=\"text-align: right;\">\n",
              "      <th></th>\n",
              "      <th>RI</th>\n",
              "      <th>Na</th>\n",
              "      <th>Mg</th>\n",
              "      <th>Al</th>\n",
              "      <th>Si</th>\n",
              "      <th>K</th>\n",
              "      <th>Ca</th>\n",
              "      <th>Ba</th>\n",
              "      <th>Fe</th>\n",
              "    </tr>\n",
              "  </thead>\n",
              "  <tbody>\n",
              "    <tr>\n",
              "      <th>count</th>\n",
              "      <td>183.000000</td>\n",
              "      <td>177.000000</td>\n",
              "      <td>184.000000</td>\n",
              "      <td>188.000000</td>\n",
              "      <td>183.000000</td>\n",
              "      <td>190.000000</td>\n",
              "      <td>190.000000</td>\n",
              "      <td>182.000000</td>\n",
              "      <td>180.000000</td>\n",
              "    </tr>\n",
              "    <tr>\n",
              "      <th>mean</th>\n",
              "      <td>1.518401</td>\n",
              "      <td>13.423672</td>\n",
              "      <td>2.663533</td>\n",
              "      <td>1.438085</td>\n",
              "      <td>72.634699</td>\n",
              "      <td>0.506368</td>\n",
              "      <td>8.934000</td>\n",
              "      <td>0.172857</td>\n",
              "      <td>0.062667</td>\n",
              "    </tr>\n",
              "    <tr>\n",
              "      <th>std</th>\n",
              "      <td>0.003136</td>\n",
              "      <td>0.837631</td>\n",
              "      <td>1.445632</td>\n",
              "      <td>0.485278</td>\n",
              "      <td>0.750648</td>\n",
              "      <td>0.685568</td>\n",
              "      <td>1.467342</td>\n",
              "      <td>0.507388</td>\n",
              "      <td>0.102965</td>\n",
              "    </tr>\n",
              "    <tr>\n",
              "      <th>min</th>\n",
              "      <td>1.511150</td>\n",
              "      <td>10.730000</td>\n",
              "      <td>0.000000</td>\n",
              "      <td>0.290000</td>\n",
              "      <td>69.890000</td>\n",
              "      <td>0.000000</td>\n",
              "      <td>5.430000</td>\n",
              "      <td>0.000000</td>\n",
              "      <td>0.000000</td>\n",
              "    </tr>\n",
              "    <tr>\n",
              "      <th>25%</th>\n",
              "      <td>1.516515</td>\n",
              "      <td>12.930000</td>\n",
              "      <td>2.037500</td>\n",
              "      <td>1.190000</td>\n",
              "      <td>72.270000</td>\n",
              "      <td>0.130000</td>\n",
              "      <td>8.210000</td>\n",
              "      <td>0.000000</td>\n",
              "      <td>0.000000</td>\n",
              "    </tr>\n",
              "    <tr>\n",
              "      <th>50%</th>\n",
              "      <td>1.517680</td>\n",
              "      <td>13.300000</td>\n",
              "      <td>3.480000</td>\n",
              "      <td>1.360000</td>\n",
              "      <td>72.790000</td>\n",
              "      <td>0.560000</td>\n",
              "      <td>8.585000</td>\n",
              "      <td>0.000000</td>\n",
              "      <td>0.000000</td>\n",
              "    </tr>\n",
              "    <tr>\n",
              "      <th>75%</th>\n",
              "      <td>1.519070</td>\n",
              "      <td>13.830000</td>\n",
              "      <td>3.600000</td>\n",
              "      <td>1.630000</td>\n",
              "      <td>73.085000</td>\n",
              "      <td>0.610000</td>\n",
              "      <td>9.140000</td>\n",
              "      <td>0.000000</td>\n",
              "      <td>0.110000</td>\n",
              "    </tr>\n",
              "    <tr>\n",
              "      <th>max</th>\n",
              "      <td>1.533930</td>\n",
              "      <td>17.380000</td>\n",
              "      <td>4.490000</td>\n",
              "      <td>3.040000</td>\n",
              "      <td>75.410000</td>\n",
              "      <td>6.210000</td>\n",
              "      <td>16.190000</td>\n",
              "      <td>3.150000</td>\n",
              "      <td>0.510000</td>\n",
              "    </tr>\n",
              "  </tbody>\n",
              "</table>\n",
              "</div>"
            ],
            "text/plain": [
              "               RI          Na          Mg  ...          Ca          Ba          Fe\n",
              "count  183.000000  177.000000  184.000000  ...  190.000000  182.000000  180.000000\n",
              "mean     1.518401   13.423672    2.663533  ...    8.934000    0.172857    0.062667\n",
              "std      0.003136    0.837631    1.445632  ...    1.467342    0.507388    0.102965\n",
              "min      1.511150   10.730000    0.000000  ...    5.430000    0.000000    0.000000\n",
              "25%      1.516515   12.930000    2.037500  ...    8.210000    0.000000    0.000000\n",
              "50%      1.517680   13.300000    3.480000  ...    8.585000    0.000000    0.000000\n",
              "75%      1.519070   13.830000    3.600000  ...    9.140000    0.000000    0.110000\n",
              "max      1.533930   17.380000    4.490000  ...   16.190000    3.150000    0.510000\n",
              "\n",
              "[8 rows x 9 columns]"
            ]
          },
          "metadata": {
            "tags": []
          },
          "execution_count": 25
        }
      ]
    },
    {
      "cell_type": "code",
      "metadata": {
        "colab": {
          "base_uri": "https://localhost:8080/",
          "height": 272
        },
        "id": "eH-sVe-Db4Ym",
        "outputId": "9634fd25-6927-469a-a24d-3316a20303a1"
      },
      "source": [
        "display(data['Class'].describe())\n",
        "print('\\n==============================================\\n')\n",
        "display(data['Class'].value_counts())"
      ],
      "execution_count": 33,
      "outputs": [
        {
          "output_type": "display_data",
          "data": {
            "text/plain": [
              "count                                      183\n",
              "unique                                       6\n",
              "top       building_windows_non_float_processed\n",
              "freq                                        69\n",
              "Name: Class, dtype: object"
            ]
          },
          "metadata": {
            "tags": []
          }
        },
        {
          "output_type": "stream",
          "text": [
            "\n",
            "==============================================\n",
            "\n"
          ],
          "name": "stdout"
        },
        {
          "output_type": "display_data",
          "data": {
            "text/plain": [
              "building_windows_non_float_processed    69\n",
              "building_windows_float_processed        56\n",
              "headlamps                               27\n",
              "vehicle_windows_float_processed         14\n",
              "containers                               9\n",
              "tableware                                8\n",
              "Name: Class, dtype: int64"
            ]
          },
          "metadata": {
            "tags": []
          }
        }
      ]
    }
  ]
}